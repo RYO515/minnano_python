{
 "cells": [
  {
   "cell_type": "markdown",
   "metadata": {},
   "source": [
    "# 組み込み型"
   ]
  },
  {
   "cell_type": "code",
   "execution_count": 3,
   "metadata": {},
   "outputs": [],
   "source": [
    "# リストのインデックスを返す関数\n",
    "\n",
    "def find_index(the_list, target):\n",
    "    idx = 0\n",
    "    for item in the_list:\n",
    "        if target == item:\n",
    "            return idx\n",
    "        idx = idx+1"
   ]
  },
  {
   "cell_type": "code",
   "execution_count": 16,
   "metadata": {},
   "outputs": [
    {
     "data": {
      "text/plain": [
       "2"
      ]
     },
     "execution_count": 16,
     "metadata": {},
     "output_type": "execute_result"
    }
   ],
   "source": [
    "mcz = [\"れに\", \"かなこ\", \"しおり\", \"あやか\", \"ももか\"]\n",
    "find_index(mcz, \"しおり\")"
   ]
  },
  {
   "cell_type": "markdown",
   "metadata": {},
   "source": [
    "# メソッド"
   ]
  },
  {
   "cell_type": "markdown",
   "metadata": {},
   "source": [
    "- データに紐づいて、データに対する処理や操作をする関数\n",
    "- index()、reverse()、sort()、pop()、remove()、append()、extend()\n",
    "- extend() ⇨ 既存のリストに別のリストを追加\n",
    "- pop() ⇨ 要素を取り除きたいときに使う\n",
    "- remove() ⇨ 指定した値と同じ値を取り除く"
   ]
  },
  {
   "cell_type": "code",
   "execution_count": 17,
   "metadata": {},
   "outputs": [
    {
     "data": {
      "text/plain": [
       "2"
      ]
     },
     "execution_count": 17,
     "metadata": {},
     "output_type": "execute_result"
    }
   ],
   "source": [
    "# index()メソッドを使った例\n",
    "mcz.index(\"しおり\")\n",
    "# mcz.pop(1)\n",
    "# mcz.remove(\"あやか\")"
   ]
  },
  {
   "cell_type": "markdown",
   "metadata": {},
   "source": [
    "# 16進数"
   ]
  },
  {
   "cell_type": "markdown",
   "metadata": {},
   "source": [
    "- 先頭に「0」をつける\n",
    "- その後に「x」を記述\n",
    "- 続けて0から9まで、およびaからfまでの英字を書く"
   ]
  },
  {
   "cell_type": "code",
   "execution_count": 18,
   "metadata": {},
   "outputs": [
    {
     "data": {
      "text/plain": [
       "511"
      ]
     },
     "execution_count": 18,
     "metadata": {},
     "output_type": "execute_result"
    }
   ],
   "source": [
    "0x1ff"
   ]
  },
  {
   "cell_type": "code",
   "execution_count": 19,
   "metadata": {},
   "outputs": [
    {
     "data": {
      "text/plain": [
       "'0x3ff'"
      ]
     },
     "execution_count": 19,
     "metadata": {},
     "output_type": "execute_result"
    }
   ],
   "source": [
    "# 10進数の数値を16進数相当の文字列に変換\n",
    "hex(1023)"
   ]
  },
  {
   "cell_type": "code",
   "execution_count": 20,
   "metadata": {},
   "outputs": [
    {
     "data": {
      "text/plain": [
       "256"
      ]
     },
     "execution_count": 20,
     "metadata": {},
     "output_type": "execute_result"
    }
   ],
   "source": [
    "# 16進数相当の文字列を数値に変換\n",
    "int(\"0x100\", 16)"
   ]
  },
  {
   "cell_type": "markdown",
   "metadata": {},
   "source": [
    "# 2進数"
   ]
  },
  {
   "cell_type": "markdown",
   "metadata": {},
   "source": [
    "- 先頭に「0」をつける\n",
    "- その後に「b」を記述\n",
    "- 0または1の数値を続ける"
   ]
  },
  {
   "cell_type": "code",
   "execution_count": 22,
   "metadata": {},
   "outputs": [
    {
     "data": {
      "text/plain": [
       "8"
      ]
     },
     "execution_count": 22,
     "metadata": {},
     "output_type": "execute_result"
    }
   ],
   "source": [
    "0b1000"
   ]
  },
  {
   "cell_type": "code",
   "execution_count": 23,
   "metadata": {},
   "outputs": [
    {
     "data": {
      "text/plain": [
       "'0b1111111111'"
      ]
     },
     "execution_count": 23,
     "metadata": {},
     "output_type": "execute_result"
    }
   ],
   "source": [
    "# 10進数の数値を2進数相当の文字列に変換\n",
    "bin(1023)"
   ]
  },
  {
   "cell_type": "code",
   "execution_count": 24,
   "metadata": {},
   "outputs": [
    {
     "data": {
      "text/plain": [
       "1023"
      ]
     },
     "execution_count": 24,
     "metadata": {},
     "output_type": "execute_result"
    }
   ],
   "source": [
    "# 2進数相当の文字列を数値に変換\n",
    "int(\"0b1111111111\", 2)"
   ]
  },
  {
   "cell_type": "markdown",
   "metadata": {},
   "source": [
    "# 8進数"
   ]
  },
  {
   "cell_type": "markdown",
   "metadata": {},
   "source": [
    "- 先頭に「0」をつける\n",
    "- その後に「o」を記述\n",
    "- 0から7までの数値を続ける"
   ]
  },
  {
   "cell_type": "code",
   "execution_count": 25,
   "metadata": {},
   "outputs": [
    {
     "data": {
      "text/plain": [
       "1023"
      ]
     },
     "execution_count": 25,
     "metadata": {},
     "output_type": "execute_result"
    }
   ],
   "source": [
    "0o1777"
   ]
  },
  {
   "cell_type": "code",
   "execution_count": 26,
   "metadata": {},
   "outputs": [
    {
     "data": {
      "text/plain": [
       "'0o1777'"
      ]
     },
     "execution_count": 26,
     "metadata": {},
     "output_type": "execute_result"
    }
   ],
   "source": [
    "# 10進数の数値を8進数相当の文字列に変換\n",
    "oct(1023)"
   ]
  },
  {
   "cell_type": "code",
   "execution_count": 27,
   "metadata": {},
   "outputs": [
    {
     "data": {
      "text/plain": [
       "1023"
      ]
     },
     "execution_count": 27,
     "metadata": {},
     "output_type": "execute_result"
    }
   ],
   "source": [
    "# 8進数相当の文字列を数値に変換\n",
    "int(\"0o1777\", 8)"
   ]
  },
  {
   "cell_type": "markdown",
   "metadata": {},
   "source": [
    "# 文字列の置換と削除"
   ]
  },
  {
   "cell_type": "code",
   "execution_count": 2,
   "metadata": {},
   "outputs": [
    {
     "data": {
      "text/plain": [
       "'おっぱお'"
      ]
     },
     "execution_count": 2,
     "metadata": {},
     "output_type": "execute_result"
    }
   ],
   "source": [
    "# replace()メソッドの例\n",
    "orig_str = \"いっぱい\"\n",
    "orig_str.replace(\"い\", \"お\")"
   ]
  },
  {
   "cell_type": "code",
   "execution_count": 6,
   "metadata": {},
   "outputs": [
    {
     "data": {
      "text/plain": [
       "1000000"
      ]
     },
     "execution_count": 6,
     "metadata": {},
     "output_type": "execute_result"
    }
   ],
   "source": [
    "str_num = \"1,000,000\"\n",
    "num = int(str_num.replace(\",\", \"\"))\n",
    "num"
   ]
  },
  {
   "cell_type": "code",
   "execution_count": 9,
   "metadata": {},
   "outputs": [
    {
     "data": {
      "image/png": "[encoded data removed]",
      "text/plain": [
       "<Figure size 432x288 with 1 Axes>"
      ]
     },
     "metadata": {
      "needs_background": "light"
     },
     "output_type": "display_data"
    }
   ],
   "source": [
    "# 文字列の分割と散布図\n",
    "%matplotlib inline\n",
    "import matplotlib.pyplot as plt\n",
    "\n",
    "str_speeds = \"38 42 20 40 39\"\n",
    "str_armor = \"80 50 17 50 51\"\n",
    "speeds = str_speeds.split(\" \")\n",
    "armors = str_armor.split(\" \")\n",
    "# IV号戦車(o) LT-38(v) 八九式戦車(^) III号突撃砲(<) M3中戦車(>)\n",
    "markers = [\"o\", \"v\", \"^\", \"<\", \">\"]\n",
    "\n",
    "for idx in range(len(speeds)):\n",
    "    x = int(speeds[idx])\n",
    "    y = int(armors[idx])\n",
    "    plt.scatter(x, y, marker=markers[idx])\n",
    "    "
   ]
  },
  {
   "cell_type": "code",
   "execution_count": 10,
   "metadata": {},
   "outputs": [
    {
     "data": {
      "text/plain": [
       "'38,42,20,40,39'"
      ]
     },
     "execution_count": 10,
     "metadata": {},
     "output_type": "execute_result"
    }
   ],
   "source": [
    "# 空白区切りをカンマ区切りにする\n",
    "str_speeds = \"38 42 20 40 39\"\n",
    "speeds = str_speeds.split()\n",
    "csep_speeds = \",\".join(speeds)\n",
    "csep_speeds"
   ]
  },
  {
   "cell_type": "code",
   "execution_count": 11,
   "metadata": {},
   "outputs": [
    {
     "data": {
      "text/plain": [
       "',38,,42,20,40,39'"
      ]
     },
     "execution_count": 11,
     "metadata": {},
     "output_type": "execute_result"
    }
   ],
   "source": [
    "# 余分な空白を削除してカンマを入力する失敗例\n",
    "# replece()の使用\n",
    "str_speeds2 = \" 38  42 20 40 39\"\n",
    "str_speeds2.replace(\" \", \",\")"
   ]
  },
  {
   "cell_type": "code",
   "execution_count": 12,
   "metadata": {},
   "outputs": [
    {
     "data": {
      "text/plain": [
       "'38,42,20,40,39'"
      ]
     },
     "execution_count": 12,
     "metadata": {},
     "output_type": "execute_result"
    }
   ],
   "source": [
    "# 余分な空白を削除してカンマを入力する正しい例\n",
    "str_speeds2 = \" 38  42 20 40 39\"\n",
    "speeds = str_speeds2.split()\n",
    "csep_speeds2 = \",\".join(speeds)\n",
    "csep_speeds2"
   ]
  },
  {
   "cell_type": "markdown",
   "metadata": {},
   "source": [
    "# エスケープシーケンス"
   ]
  },
  {
   "cell_type": "code",
   "execution_count": 17,
   "metadata": {},
   "outputs": [
    {
     "name": "stdout",
     "output_type": "stream",
     "text": [
      "ゆく河の流れは絶えずして\n",
      "しかももとの水にあらず\n"
     ]
    }
   ],
   "source": [
    "# \\n ⇨ 改行\n",
    "def func():\n",
    "    words = \"ゆく河の流れは絶えずして\\nしかももとの水にあらず\"\n",
    "    print(words)\n",
    "func()"
   ]
  },
  {
   "cell_type": "markdown",
   "metadata": {},
   "source": [
    "# raw文字列"
   ]
  },
  {
   "cell_type": "markdown",
   "metadata": {},
   "source": [
    "- 入力した文字そのままを定義したい場合"
   ]
  },
  {
   "cell_type": "code",
   "execution_count": 18,
   "metadata": {},
   "outputs": [
    {
     "data": {
      "text/plain": [
       "'/path/\\\\nto/file/'"
      ]
     },
     "execution_count": 18,
     "metadata": {},
     "output_type": "execute_result"
    }
   ],
   "source": [
    "raw = r\"/path/\\nto/file/\"\n",
    "raw"
   ]
  },
  {
   "cell_type": "markdown",
   "metadata": {},
   "source": [
    "# 文字列のフォーマット"
   ]
  },
  {
   "cell_type": "code",
   "execution_count": 19,
   "metadata": {},
   "outputs": [
    {
     "data": {
      "text/plain": [
       "'Guido loves Python !'"
      ]
     },
     "execution_count": 19,
     "metadata": {},
     "output_type": "execute_result"
    }
   ],
   "source": [
    "\"{} loves Python !\".format('Guido')"
   ]
  },
  {
   "cell_type": "code",
   "execution_count": 20,
   "metadata": {},
   "outputs": [
    {
     "name": "stdout",
     "output_type": "stream",
     "text": [
      "<a href=\"https//python.org\">https//python.org</a>\n",
      "<a href=\"https//pypy.org\">https//pypy.org</a>\n",
      "<a href=\"https//cython.org\">https//cython.org</a>\n"
     ]
    }
   ],
   "source": [
    "# 複数を同時に差し込む\n",
    "linkstr = '<a href=\"{}\">{}</a>'\n",
    "for i in [ 'https//python.org',\n",
    "           'https//pypy.org',\n",
    "           'https//cython.org',]:\n",
    "    print(linkstr.format(i, i.replace('https://', '')))"
   ]
  },
  {
   "cell_type": "code",
   "execution_count": null,
   "metadata": {},
   "outputs": [],
   "source": []
  }
 ],
 "metadata": {
  "kernelspec": {
   "display_name": "Python 3",
   "language": "python",
   "name": "python3"
  },
  "language_info": {
   "codemirror_mode": {
    "name": "ipython",
    "version": 3
   },
   "file_extension": ".py",
   "mimetype": "text/x-python",
   "name": "python",
   "nbconvert_exporter": "python",
   "pygments_lexer": "ipython3",
   "version": "3.8.5"
  }
 },
 "nbformat": 4,
 "nbformat_minor": 4
}
