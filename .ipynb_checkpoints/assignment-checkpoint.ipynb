{
 "cells": [
  {
   "cell_type": "markdown",
   "metadata": {},
   "source": [
    "#### Q1\n",
    "次の2点をそれぞれを `a1_1` , `a1_2` という変数に格納し、**変数の中身を表示するスクリプト**を書きなさい。\n",
    "\n",
    "（1）「Hello World」という文字列\n",
    "\n",
    "（2）「8+4×5」という計算の結果"
   ]
  },
  {
   "cell_type": "code",
   "execution_count": 1,
   "metadata": {},
   "outputs": [
    {
     "name": "stdout",
     "output_type": "stream",
     "text": [
      "Hello World\n",
      "28\n"
     ]
    }
   ],
   "source": [
    "# 解答欄\n",
    "a1_1 = \"Hello World\"\n",
    "a1_2 = 8 + 4 * 5\n",
    "\n",
    "print(a1_1)\n",
    "print(a1_2)"
   ]
  },
  {
   "cell_type": "markdown",
   "metadata": {},
   "source": [
    "#### Q2\n",
    "半角数字「7」のデータ型を調べ、`a2_1` という変数に格納しなさい。"
   ]
  },
  {
   "cell_type": "code",
   "execution_count": 2,
   "metadata": {},
   "outputs": [
    {
     "data": {
      "text/plain": [
       "int"
      ]
     },
     "execution_count": 2,
     "metadata": {},
     "output_type": "execute_result"
    }
   ],
   "source": [
    "# 解答欄\n",
    "a2_1 = type(7)\n",
    "a2_1"
   ]
  },
  {
   "cell_type": "markdown",
   "metadata": {},
   "source": [
    "#### Q3\n",
    "\n",
    "name(str型)とage(int型)を受け取り、下記の文字列を返す関数`a3_1`を作りなさい。(文字列中にスペースを空けない)  \n",
    "\n",
    "`name`は`age`歳です"
   ]
  },
  {
   "cell_type": "code",
   "execution_count": 3,
   "metadata": {},
   "outputs": [
    {
     "data": {
      "text/plain": [
       "'ノビタは12歳です'"
      ]
     },
     "execution_count": 3,
     "metadata": {},
     "output_type": "execute_result"
    }
   ],
   "source": [
    "# 解答欄\n",
    "def a3_1(name, age):\n",
    "    '''\n",
    "    Parameters\n",
    "    ----------\n",
    "    name : str\n",
    "        名前\n",
    "    age : int\n",
    "        年齢\n",
    "    Returns\n",
    "    -------\n",
    "    str\n",
    "        nameはage歳です\n",
    "    '''\n",
    "\n",
    "    return name+\"は\"+str(age)+\"歳です\"\n",
    "\n",
    "a3_1('ノビタ', 12)"
   ]
  },
  {
   "cell_type": "markdown",
   "metadata": {},
   "source": [
    "#### Q4\n",
    "リストに関する以下の問題を解きなさい。<br>\n",
    "\n",
    "　　(1) 整数 2,7,3,9,1,6 を要素として持つリストを作成し、`a4_1`に格納せよ。<br>\n",
    "\n",
    "　　(2) `a4_1`を受け取りそのリストの3番目以降の要素を返す関数`a4_2`を作成せよ。\n",
    "          \n",
    "          例）[1,2,3,4,5]を渡すと[3,4,5]を返す"
   ]
  },
  {
   "cell_type": "code",
   "execution_count": 4,
   "metadata": {},
   "outputs": [
    {
     "data": {
      "text/plain": [
       "[3, 9, 1, 6]"
      ]
     },
     "execution_count": 4,
     "metadata": {},
     "output_type": "execute_result"
    }
   ],
   "source": [
    "# 解答欄\n",
    "# (1)\n",
    "a4_1 = [2, 7, 3, 9, 1, 6]\n",
    "\n",
    "# (2)\n",
    "def a4_2(li):\n",
    "    '''\n",
    "    Parameters\n",
    "    ----------\n",
    "    li : list\n",
    "        要素が整数からなるリスト\n",
    "    Return\n",
    "    ------\n",
    "    list\n",
    "        受け取ったリストのうち3番目以降\n",
    "    '''\n",
    "    return li[2:]\n",
    "\n",
    "a4_2(a4_1)"
   ]
  },
  {
   "cell_type": "markdown",
   "metadata": {},
   "source": [
    "#### Q5\n",
    "辞書に関する以下の問題を解きなさい。<br>\n",
    "\n",
    "　　(1) 以下のキーと値を持つ辞書を作成し、`a5_1`に格納せよ。<br>\n",
    "\n",
    "| キー | 値 |\n",
    "| --- | --- |\n",
    "| apple | リンゴ |\n",
    "| orange | オレンジ |\n",
    "| melon | メロン |\n",
    "| peach | 桃 |\n",
    "\n",
    "　　(2) `a5_1`を受け取りその辞書の値を全て返す関数`a5_2`を作成せよ。"
   ]
  },
  {
   "cell_type": "code",
   "execution_count": 5,
   "metadata": {},
   "outputs": [
    {
     "data": {
      "text/plain": [
       "dict_values(['リンゴ', 'オレンジ', 'メロン', '桃'])"
      ]
     },
     "execution_count": 5,
     "metadata": {},
     "output_type": "execute_result"
    }
   ],
   "source": [
    "# 解答欄\n",
    "# (1)\n",
    "a5_1 = dict(apple='リンゴ', orange='オレンジ', melon='メロン', peach='桃')\n",
    "\n",
    "# (2)\n",
    "def a5_2(di):\n",
    "    '''\n",
    "    Parameters\n",
    "    ----------\n",
    "    di : dict\n",
    "        指定のキーと値を持つ辞書\n",
    "    Return\n",
    "    ------\n",
    "    dict_values\n",
    "        受け取った辞書のすべての値\n",
    "    '''\n",
    "    di = di.values()\n",
    "    return di\n",
    "\n",
    "a5_2(a5_1)"
   ]
  },
  {
   "cell_type": "markdown",
   "metadata": {},
   "source": [
    "#### Q6\n",
    "\n",
    "if文を使って、次の条件を満たす様な関数 `a6_1` を作成せよ。\n",
    "\n",
    "受け取った数 `num` が\n",
    "- 正の場合で\n",
    "    - 100以上の場合は「positive, greater than or equal to 100」\n",
    "    - 100未満の場合は「positive, less than 100」\n",
    "- 0の場合は「zero」\n",
    "- 負の場合は「negative」\n",
    "\n",
    "を返す"
   ]
  },
  {
   "cell_type": "code",
   "execution_count": 6,
   "metadata": {},
   "outputs": [
    {
     "name": "stdout",
     "output_type": "stream",
     "text": [
      "positive, less than 100\n"
     ]
    },
    {
     "data": {
      "text/plain": [
       "3"
      ]
     },
     "execution_count": 6,
     "metadata": {},
     "output_type": "execute_result"
    }
   ],
   "source": [
    "# 解答欄\n",
    "def a6_1(num):\n",
    "    '''\n",
    "    Parameters\n",
    "    ----------\n",
    "    num : int\n",
    "        受け取る値\n",
    "    Returns\n",
    "    -------\n",
    "    str\n",
    "        条件に従った戻り値\n",
    "    '''\n",
    "    if num:\n",
    "        if num >= 100:\n",
    "            print(\"positive, greater than or equal to 100\")\n",
    "        elif 0 < num < 100:\n",
    "            print(\"positive, less than 100\")\n",
    "        elif num == 0:\n",
    "            print(\"zero\")\n",
    "        elif num < 0:\n",
    "            print(\"negative\")\n",
    "\n",
    "    return num\n",
    "    \n",
    "a6_1(3)"
   ]
  },
  {
   "cell_type": "markdown",
   "metadata": {},
   "source": [
    "#### Q7\n",
    "\n",
    "for文を使い**sum()関数を使わずに**、受け取ったリストの合計を返す関数 `a7_1` を作成せよ。\n",
    "\n",
    "例)<br>\n",
    "a7_1([1, 2, 3, 4]) を実行すると10が返ってくる。"
   ]
  },
  {
   "cell_type": "code",
   "execution_count": 7,
   "metadata": {},
   "outputs": [
    {
     "data": {
      "text/plain": [
       "10"
      ]
     },
     "execution_count": 7,
     "metadata": {},
     "output_type": "execute_result"
    }
   ],
   "source": [
    "# 解答欄\n",
    "def a7_1(li):\n",
    "    '''\n",
    "    Parameters\n",
    "    ----------\n",
    "    li : list\n",
    "        数値の入ったリスト\n",
    "    Return\n",
    "    ------\n",
    "    int or float\n",
    "        合計値\n",
    "    '''\n",
    "    total = 0\n",
    "    for num in li:\n",
    "        total = total + num\n",
    "    return total\n",
    "\n",
    "a7_1([1,2,3,4])"
   ]
  },
  {
   "cell_type": "markdown",
   "metadata": {},
   "source": [
    "#### Q8\n",
    "1から正の整数`num`未満の整数のうち2で割り切れるものを返す関数`a8_1`を作成せよ。\n",
    "\n",
    "例)<br>\n",
    "　a8_1(20)を実行すると[2, 4, 6, 8, 10, 12, 14, 16, 18]が返ってくる。"
   ]
  },
  {
   "cell_type": "code",
   "execution_count": 8,
   "metadata": {},
   "outputs": [
    {
     "data": {
      "text/plain": [
       "[2, 4, 6, 8, 10, 12, 14, 16, 18]"
      ]
     },
     "execution_count": 8,
     "metadata": {},
     "output_type": "execute_result"
    }
   ],
   "source": [
    "# 解答欄\n",
    "def a8_1(num):\n",
    "    '''\n",
    "    Parameters\n",
    "    ----------\n",
    "    num : int\n",
    "        正の整数\n",
    "    Return\n",
    "    ------\n",
    "    li : list\n",
    "        2で割り切れる整数が格納されたリスト\n",
    "    '''\n",
    "    li = []\n",
    "    for a in range(2,num):\n",
    "        if a % 2 == 0:\n",
    "            li.append(a)\n",
    "            a += 1\n",
    "    return li\n",
    "\n",
    "a8_1(20)"
   ]
  }
 ],
 "metadata": {
  "kernelspec": {
   "display_name": "Python 3",
   "language": "python",
   "name": "python3"
  },
  "language_info": {
   "codemirror_mode": {
    "name": "ipython",
    "version": 3
   },
   "file_extension": ".py",
   "mimetype": "text/x-python",
   "name": "python",
   "nbconvert_exporter": "python",
   "pygments_lexer": "ipython3",
   "version": "3.8.5"
  }
 },
 "nbformat": 4,
 "nbformat_minor": 4
}
