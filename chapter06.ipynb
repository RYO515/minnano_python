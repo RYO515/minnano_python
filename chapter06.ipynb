{
 "cells": [
  {
   "cell_type": "markdown",
   "metadata": {},
   "source": [
    "# クラスの継承"
   ]
  },
  {
   "cell_type": "markdown",
   "metadata": {},
   "source": [
    "- __init__() : インスタンスの作成時に自動で生成されるメソッド。コンストラクタ"
   ]
  },
  {
   "cell_type": "code",
   "execution_count": 7,
   "metadata": {},
   "outputs": [
    {
     "name": "stdout",
     "output_type": "stream",
     "text": [
      "僕はAkira,24歳。男です。\n"
     ]
    }
   ],
   "source": [
    "class Character:\n",
    "    # コンストラクタでインスタンスを初期化\n",
    "    def __init__(self, name, age, sex):\n",
    "        self.name = name\n",
    "        self.age = age\n",
    "        self.sex = sex\n",
    "    \n",
    "    def print_data(self):\n",
    "        print(\"私は{},{}歳。{}です。\".format(self.name, self.age, self.sex))\n",
    "        \n",
    "chara4 = Character('Akira', 24, '男')\n",
    "chara4.print_data()"
   ]
  },
  {
   "cell_type": "markdown",
   "metadata": {},
   "source": [
    "- superクラスとは、全てのクラスで共通する機能\n",
    "- 拡張とは、superクラスの機能を再利用し、サブクラスで固有の機能をつけること"
   ]
  },
  {
   "cell_type": "code",
   "execution_count": 14,
   "metadata": {},
   "outputs": [
    {
     "name": "stdout",
     "output_type": "stream",
     "text": [
      "Apple Seller「どう？りんごでも買わない？」\n"
     ]
    }
   ],
   "source": [
    "# 村人(Villager)クラスを作る\n",
    "# Characterクラスを継承\n",
    "class Villager(Character):\n",
    "    # コンストラクタを拡張\n",
    "    def __init__(self, name, age, sex, line):\n",
    "        # super()で継承元のクラスを呼び出せる\n",
    "        super().__init__(name, age, sex)\n",
    "        # セリフを設定\n",
    "        self.line = line\n",
    "    \n",
    "    def speak(self):\n",
    "        print(\"{}「{}」\".format(self.name, self.line))\n",
    "\n",
    "villager1 = Villager('Apple Seller', 35, 'male', 'どう？りんごでも買わない？')\n",
    "villager1.speak()"
   ]
  },
  {
   "cell_type": "code",
   "execution_count": 17,
   "metadata": {},
   "outputs": [
    {
     "name": "stdout",
     "output_type": "stream",
     "text": [
      "HPが30回復\n",
      "現在のHP:130\n"
     ]
    }
   ],
   "source": [
    "# 自キャラの作成\n",
    "class Hiro(Character):\n",
    "    def __init__(self, name, age, sex, hp, ex, mp):\n",
    "        super().__init__(name, age, sex)\n",
    "        # 体力を設定\n",
    "        self.hp = hp\n",
    "        # 経験値を設定\n",
    "        self.ex = ex\n",
    "        # 魔力を設定\n",
    "        self.mp = mp\n",
    "    \n",
    "    # 魔力に応じて体力を回復するメソッド\n",
    "    def heal(self):\n",
    "        # 体力を魔力分回復\n",
    "        self.hp += self.mp\n",
    "        # 回復量を表示\n",
    "        print(\"HPが{}回復\".format(self.mp))\n",
    "        print(\"現在のHP:{}\".format(self.hp))\n",
    "\n",
    "hiro1 = Hiro('Kazuma', 16, 'male', 100, 200, 30)\n",
    "hiro1.heal()"
   ]
  },
  {
   "cell_type": "code",
   "execution_count": null,
   "metadata": {},
   "outputs": [],
   "source": []
  }
 ],
 "metadata": {
  "kernelspec": {
   "display_name": "Python 3",
   "language": "python",
   "name": "python3"
  },
  "language_info": {
   "codemirror_mode": {
    "name": "ipython",
    "version": 3
   },
   "file_extension": ".py",
   "mimetype": "text/x-python",
   "name": "python",
   "nbconvert_exporter": "python",
   "pygments_lexer": "ipython3",
   "version": "3.8.5"
  }
 },
 "nbformat": 4,
 "nbformat_minor": 4
}
