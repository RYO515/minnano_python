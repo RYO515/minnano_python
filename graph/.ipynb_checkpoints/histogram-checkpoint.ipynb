{
 "cells": [
  {
   "cell_type": "code",
   "execution_count": 1,
   "metadata": {},
   "outputs": [],
   "source": [
    "ages = [23, 22, 23, 22, 24, 20, 22, 24,\n",
    "29, 28, 25, 25, 26, 27, 28, 27, 25, 25, 27, 25, 25,\n",
    "32, 32, 32, 33, 33, 32, 33, 32, 30, 33, 32,\n",
    "35, 39, 38, 38, 37, 35, 38, 35, 35, 38, 35, 37,\n",
    "43, 44, 40, 41, 44, 41, 40, 43, 44, 41, 41, 44, 43, 42, 40, 44, 42, 41, 42,\n",
    "47, 49, 49, 46, 48, 45, 49, 49, 49, 49, 49, 48, 46, 49, 45, 48, 49, 48,\n",
    "54, 52, 54, 53, 53, 54, 50, 51, 52, 54,\n",
    "58, 56, 58, 58, 55, 57, 56, 56, 55]"
   ]
  },
  {
   "cell_type": "code",
   "execution_count": 13,
   "metadata": {},
   "outputs": [
    {
     "data": {
      "image/png": "[encoded data removed]",
      "text/plain": [
       "<Figure size 432x288 with 1 Axes>"
      ]
     },
     "metadata": {
      "needs_background": "light"
     },
     "output_type": "display_data"
    }
   ],
   "source": [
    "%matplotlib inline\n",
    "import numpy as np\n",
    "import matplotlib.pyplot as plt\n",
    "\n",
    "# 大枠(fig)の中に、何個のグラフ(ax)をいれるか指定\n",
    "# 引数に何もない時はグラフの数は一つ\n",
    "fig, ax = plt.subplots()\n",
    "\n",
    "# x軸の階級数を指定\n",
    "left = np.array([0, 1, 2, 3, 4, 5, 6, 7])\n",
    "# y軸の度数を指定\n",
    "height = np.array([8, 13, 11, 12, 19, 18, 10, 9])\n",
    "# グラフに反映\n",
    "ax.bar(left, height, width=1.0)\n",
    "\n",
    "# グラフのタイトル\n",
    "plt.title(\"Ages\")\n",
    "# x軸のタイトル\n",
    "plt.xlabel(\"age group\")\n",
    "# y軸のタイトル\n",
    "plt.ylabel(\"frequency\")\n",
    "\n",
    "# x軸につけるラベル\n",
    "label = [\n",
    "    \"20 - ２4\",\n",
    "    \"25 - 29\",\n",
    "    \"30 - 34\",\n",
    "    \"35 - 39\",\n",
    "    \"40 - 44\",\n",
    "    \"45 - 49\",\n",
    "    \"50 - 54\",\n",
    "    \"55 - 59\"\n",
    "]\n",
    "\n",
    "# ラベルを打つx軸の座標\n",
    "ax.set_xticks([0.5, 1.5, 2.5, 3.5, 4.5, 5.5, 6.5, 7.5])\n",
    "# x軸に表記を90度回転させたラベルをセット\n",
    "ax.set_xticklabels(label, rotation = 90)\n",
    "\n",
    "plt.show()"
   ]
  }
 ],
 "metadata": {
  "kernelspec": {
   "display_name": "Python 3",
   "language": "python",
   "name": "python3"
  },
  "language_info": {
   "codemirror_mode": {
    "name": "ipython",
    "version": 3
   },
   "file_extension": ".py",
   "mimetype": "text/x-python",
   "name": "python",
   "nbconvert_exporter": "python",
   "pygments_lexer": "ipython3",
   "version": "3.8.5"
  }
 },
 "nbformat": 4,
 "nbformat_minor": 4
}
