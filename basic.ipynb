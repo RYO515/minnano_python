{
 "cells": [
  {
   "cell_type": "markdown",
   "metadata": {},
   "source": [
    "# 複合演算子"
   ]
  },
  {
   "cell_type": "markdown",
   "metadata": {},
   "source": [
    "- +=のように、+演算子と代入の=をつなげた演算子\n",
    "- 変数を使って、ある文字列に別の文字列を連結する時などに使う"
   ]
  },
  {
   "cell_type": "code",
   "execution_count": null,
   "metadata": {},
   "outputs": [],
   "source": [
    "lylic2 = \"山田\"\n",
    "lylic2 += \"太郎\"\n",
    "lylic2"
   ]
  },
  {
   "cell_type": "markdown",
   "metadata": {},
   "source": [
    "# 文字列と数値の変換（型変換）"
   ]
  },
  {
   "cell_type": "markdown",
   "metadata": {},
   "source": [
    "- 数値　→　文字列　⇨ str()関数\n",
    "- 文字列　→　数値　⇨ int()関数、float()関数\n",
    "- int()関数は整数のみ、float()関数は少数も含む"
   ]
  },
  {
   "cell_type": "code",
   "execution_count": null,
   "metadata": {},
   "outputs": [],
   "source": [
    "day = 24\n",
    "str_day = str(day)\n",
    "date = str_day + \"日\"\n",
    "date"
   ]
  },
  {
   "cell_type": "markdown",
   "metadata": {},
   "source": [
    "# 要素の削除"
   ]
  },
  {
   "cell_type": "code",
   "execution_count": null,
   "metadata": {},
   "outputs": [],
   "source": [
    "mcz = [\"れに\", \"あかり\", \"かなこ\", \"しおり\", \"あやか\", \"ゆきな\"]\n",
    "del mcz[0]\n",
    "mcz"
   ]
  },
  {
   "cell_type": "markdown",
   "metadata": {},
   "source": [
    "# スライスの使用"
   ]
  },
  {
   "cell_type": "code",
   "execution_count": null,
   "metadata": {},
   "outputs": [],
   "source": [
    "mcz = [\"れに\", \"あかり\", \"かなこ\", \"しおり\", \"あやか\", \"ゆきな\"] \n",
    "mcz[1:3]"
   ]
  },
  {
   "cell_type": "code",
   "execution_count": null,
   "metadata": {},
   "outputs": [],
   "source": [
    "mcz[-1]"
   ]
  },
  {
   "cell_type": "code",
   "execution_count": null,
   "metadata": {},
   "outputs": [],
   "source": [
    "mcz[:2]"
   ]
  },
  {
   "cell_type": "code",
   "execution_count": null,
   "metadata": {},
   "outputs": [],
   "source": [
    "mcz[2:]"
   ]
  },
  {
   "cell_type": "markdown",
   "metadata": {},
   "source": [
    "# 2次元配列"
   ]
  },
  {
   "cell_type": "markdown",
   "metadata": {},
   "source": [
    "- 要素を指し示すのに2つの数値（縦軸、横軸）が必要な表\n",
    "- リストの中にリストを定義する"
   ]
  },
  {
   "cell_type": "code",
   "execution_count": null,
   "metadata": {},
   "outputs": [],
   "source": [
    "city_temps = [\n",
    "    [14.8, 14.8, 15.1, 15.4, 15.2, 15.4, 17.0, 16.9],\n",
    "    [10.0, 10.4, 11.5, 11.2, 10.9, 10.6, 11.8, 12.2],\n",
    "    [16.0, 15.5, 15.9, 16.4, 15.9, 15.6, 17.5, 17.1]\n",
    "]"
   ]
  },
  {
   "cell_type": "code",
   "execution_count": null,
   "metadata": {},
   "outputs": [],
   "source": [
    "city_temps[1]"
   ]
  },
  {
   "cell_type": "markdown",
   "metadata": {},
   "source": [
    "- リストとリストの比較"
   ]
  },
  {
   "cell_type": "code",
   "execution_count": null,
   "metadata": {},
   "outputs": [],
   "source": [
    "city_temps[2][7] - city_temps[2][0]"
   ]
  },
  {
   "cell_type": "markdown",
   "metadata": {},
   "source": [
    "# グラフの作成"
   ]
  },
  {
   "cell_type": "markdown",
   "metadata": {},
   "source": [
    "- plt.plot()関数"
   ]
  },
  {
   "cell_type": "code",
   "execution_count": null,
   "metadata": {},
   "outputs": [],
   "source": [
    "%matplotlib inline\n",
    "import matplotlib.pyplot as plt\n",
    "plt.plot(city_temps[0])\n",
    "plt.plot(city_temps[1])\n",
    "plt.plot(city_temps[2])"
   ]
  },
  {
   "cell_type": "markdown",
   "metadata": {},
   "source": [
    "# リストの合計、最大値、最小値、平均、長さを調べる"
   ]
  },
  {
   "cell_type": "markdown",
   "metadata": {},
   "source": [
    "- リストの長さ（要素数）を調べる　⇨ len()関数"
   ]
  },
  {
   "cell_type": "code",
   "execution_count": null,
   "metadata": {},
   "outputs": [],
   "source": [
    "monk_fish_team = [158, 157, 163, 157, 145]\n",
    "len(monk_fish_team)"
   ]
  },
  {
   "cell_type": "code",
   "execution_count": null,
   "metadata": {},
   "outputs": [],
   "source": [
    "monk_sum = sum(monk_fish_team)\n",
    "monk_len = len(monk_fish_team)\n",
    "monk_mean = monk_sum / monk_len\n",
    "monk_mean"
   ]
  },
  {
   "cell_type": "code",
   "execution_count": null,
   "metadata": {},
   "outputs": [],
   "source": [
    "# 棒グラフを表示\n",
    "plt.bar([0, 1, 2, 3, 4], monk_fish_team)\n",
    "# 平均線を引く。引数よくわからん\n",
    "plt.plot([0, len(monk_fish_team)], [monk_mean, monk_mean], color='red')"
   ]
  },
  {
   "cell_type": "markdown",
   "metadata": {},
   "source": [
    "# for文"
   ]
  },
  {
   "cell_type": "markdown",
   "metadata": {},
   "source": [
    "for 繰り返し変数 in シーケンス:\n",
    ">>ループ内で実行するブロック"
   ]
  },
  {
   "cell_type": "code",
   "execution_count": null,
   "metadata": {},
   "outputs": [],
   "source": [
    "mcz = [\"れに\", \"かなこ\" , \"しおり\" , \"あやか\" , \"ももか\" ]\n",
    "for member in mcz:\n",
    "    print(member) # 引数に繰り返し変数"
   ]
  },
  {
   "cell_type": "code",
   "execution_count": null,
   "metadata": {},
   "outputs": [],
   "source": [
    "# 分散を計算\n",
    "monk_fish_team = [158, 157, 163, 157, 145]\n",
    "\n",
    "total = sum(monk_fish_team)\n",
    "length = len(monk_fish_team)\n",
    "mean = total / length\n",
    "variance = 0                               # 分散を計算するための変数\n",
    "for height in monk_fish_team:\n",
    "    variance += (height - mean) ** 2\n",
    "\n",
    "variance = variance / length\n",
    "variance"
   ]
  },
  {
   "cell_type": "code",
   "execution_count": null,
   "metadata": {},
   "outputs": [],
   "source": [
    "# 標準偏差の計算\n",
    "variance ** 0.5"
   ]
  },
  {
   "cell_type": "markdown",
   "metadata": {},
   "source": [
    "# range()関数"
   ]
  },
  {
   "cell_type": "code",
   "execution_count": null,
   "metadata": {},
   "outputs": [],
   "source": [
    "# 福利計算\n",
    "savings = 100                  # 元金\n",
    "for i in range(15):            # 15年分ループ\n",
    "    savings += savings * 0.05  # 利率5%\n",
    "savings"
   ]
  },
  {
   "cell_type": "markdown",
   "metadata": {},
   "source": [
    "# if文"
   ]
  },
  {
   "cell_type": "code",
   "execution_count": null,
   "metadata": {},
   "outputs": [],
   "source": [
    "if 2*2*2+2 == 10:\n",
    "    print(\"2*2*2+2は10\")\n",
    "if 2+2*2+2 == 10:\n",
    "    print(\"2+2*2+2は10\")\n",
    "if (2+2)*2+2 == 10:\n",
    "    print(\"(2+2)*2+2は10\")"
   ]
  },
  {
   "cell_type": "code",
   "execution_count": null,
   "metadata": {},
   "outputs": [],
   "source": [
    "# 比較演算子\n",
    "if 1 == 1:\n",
    "    print(\"1番目はTrue\")\n",
    "if 5^(4-4)+9 == 10:        #計算よくわからん\n",
    "    print(\"2番目はTrue\")\n",
    "if 2 < len([0, 1, 2]):\n",
    "    print(\"3番目はTrue\")\n",
    "if sum([1, 2, 3, 4]) < 10:\n",
    "    print(\"4番目はTrue\")"
   ]
  },
  {
   "cell_type": "markdown",
   "metadata": {},
   "source": [
    "# in演算子"
   ]
  },
  {
   "cell_type": "code",
   "execution_count": null,
   "metadata": {},
   "outputs": [],
   "source": [
    "# 文字列の検索\n",
    "if \"GAG\" in \"AUGACGGAGCUU\":\n",
    "    print(\"1番目はTrue\")\n",
    "if \"花より団子\" in \"団子\":\n",
    "    print(\"2番目はTrue\")\n",
    "if \"stumble\" in \"A horse may stumble though he has four legs\":\n",
    "    print(\"3番目はTrue\")"
   ]
  },
  {
   "cell_type": "code",
   "execution_count": null,
   "metadata": {},
   "outputs": [],
   "source": [
    "# リストの要素を検索\n",
    "if 1 in [0, 1, 2, 3, 4]:\n",
    "    print(\"1番目はTrue\")\n",
    "if [1, 2] in [0, 1, 2, 3, 4]:\n",
    "    print(\"2番目はTrue\")\n",
    "if [1, 2] in [0, [1, 2], 3, 4]:\n",
    "    print(\"3番目はTrue\")"
   ]
  },
  {
   "cell_type": "markdown",
   "metadata": {},
   "source": [
    "# elif文"
   ]
  },
  {
   "cell_type": "code",
   "execution_count": null,
   "metadata": {},
   "outputs": [],
   "source": [
    "a_year = 2080\n",
    "if a_year == 1993:\n",
    "    print(a_year, \"年、れに誕生\")\n",
    "elif a_year > 1993:\n",
    "    print(a_year, \"年、れに\", a_year-1993, \"歳\")"
   ]
  },
  {
   "cell_type": "markdown",
   "metadata": {},
   "source": [
    "# for文とif文の組み合わせ"
   ]
  },
  {
   "cell_type": "code",
   "execution_count": null,
   "metadata": {},
   "outputs": [],
   "source": [
    "# 23が素数かどうか調べる\n",
    "a_num = 23\n",
    "for num in range(2, a_num):\n",
    "    if a_num % num == 0:\n",
    "        print(a_num, \"は素数ではありません\")\n",
    "        break\n",
    "    elif a_num % num != 0:\n",
    "        print(a_num, \"は素数\")\n",
    "        break"
   ]
  },
  {
   "cell_type": "markdown",
   "metadata": {},
   "source": [
    "# abs()関数"
   ]
  },
  {
   "cell_type": "markdown",
   "metadata": {},
   "source": [
    "- 数値の絶対値を返す"
   ]
  },
  {
   "cell_type": "code",
   "execution_count": null,
   "metadata": {},
   "outputs": [],
   "source": [
    "abs(20)"
   ]
  },
  {
   "cell_type": "code",
   "execution_count": null,
   "metadata": {},
   "outputs": [],
   "source": [
    "abs(-100)"
   ]
  },
  {
   "cell_type": "markdown",
   "metadata": {},
   "source": [
    "# int()関数"
   ]
  },
  {
   "cell_type": "code",
   "execution_count": null,
   "metadata": {},
   "outputs": [],
   "source": [
    "int(\"100\")"
   ]
  },
  {
   "cell_type": "markdown",
   "metadata": {},
   "source": [
    "# 関数の定義"
   ]
  },
  {
   "cell_type": "markdown",
   "metadata": {},
   "source": [
    "- def関数"
   ]
  },
  {
   "cell_type": "code",
   "execution_count": null,
   "metadata": {},
   "outputs": [],
   "source": [
    "def destiny_tank():\n",
    "    tanks = [\"IV号戦車D型\", \"III号戦車J型\", \"チャーチル MK.VII\",\n",
    "            \"M4シャーマン\", \"P40重戦車\", \"T-34/76\"]\n",
    "    num = input(\"好きな数字を入力してください:\")\n",
    "    idx = int(num) % len(tanks)\n",
    "    print(\"あなたの運命の戦車は\")\n",
    "    print(tanks[idx])"
   ]
  },
  {
   "cell_type": "code",
   "execution_count": null,
   "metadata": {},
   "outputs": [],
   "source": [
    "destiny_tank()"
   ]
  },
  {
   "cell_type": "markdown",
   "metadata": {},
   "source": [
    "# 引数をもつ関数の定義"
   ]
  },
  {
   "cell_type": "markdown",
   "metadata": {},
   "source": [
    "- 数値を得るコマンドを関数の外に出す\n",
    "- 得る数値を変更するときに関数を書き換えなくていいから関数の汎用性が高い"
   ]
  },
  {
   "cell_type": "code",
   "execution_count": null,
   "metadata": {},
   "outputs": [],
   "source": [
    "def destiny_tank2(num):\n",
    "    tanks = [\"IV号戦車D型\", \"III号戦車J型\", \"チャーチル MK.VII\",\n",
    "            \"M4シャーマン\", \"P40重戦車\", \"T-34/76\"]\n",
    "    idx = num % len(tanks)\n",
    "    print(\"あなたの運命の戦車は\")\n",
    "    print(tanks[idx])"
   ]
  },
  {
   "cell_type": "code",
   "execution_count": null,
   "metadata": {},
   "outputs": [],
   "source": [
    "num_str = input(\"好きな数字を入力してください\")\n",
    "num = int(num_str)\n",
    "destiny_tank2(num)"
   ]
  },
  {
   "cell_type": "code",
   "execution_count": null,
   "metadata": {},
   "outputs": [],
   "source": [
    "# ランダムな結果を戻す\n",
    "from random import randint\n",
    "num = randint(0, 10)\n",
    "destiny_tank2(num)"
   ]
  },
  {
   "cell_type": "markdown",
   "metadata": {},
   "source": [
    "# 戻り値を持つ関数の定義"
   ]
  },
  {
   "cell_type": "code",
   "execution_count": null,
   "metadata": {},
   "outputs": [],
   "source": [
    "def destiny_tank3(num):\n",
    "    tanks = [\"IV号戦車D型\", \"III号戦車J型\", \"チャーチル MK.VII\",\n",
    "            \"M4シャーマン\", \"P40重戦車\", \"T-34/76\"]\n",
    "    idx = num % len(tanks)\n",
    "    return tanks[idx]"
   ]
  },
  {
   "cell_type": "code",
   "execution_count": null,
   "metadata": {},
   "outputs": [],
   "source": [
    "from random import randint\n",
    "num = randint(0, 10)\n",
    "tank = destiny_tank3(num)\n",
    "print(\"今日あなたが乗るべき幸運の戦車は\", tank, \"です\")"
   ]
  },
  {
   "cell_type": "markdown",
   "metadata": {},
   "source": [
    "# ローカル変数"
   ]
  },
  {
   "cell_type": "markdown",
   "metadata": {},
   "source": [
    "- 関数の中で代入を行った変数は、関数の外では使えない"
   ]
  },
  {
   "cell_type": "code",
   "execution_count": null,
   "metadata": {},
   "outputs": [],
   "source": [
    "def test_funk(arg1):\n",
    "    inner_var = 100\n",
    "    print(arg1+inner_var)\n",
    "\n",
    "test_funk(10)\n",
    "inner_var"
   ]
  },
  {
   "cell_type": "markdown",
   "metadata": {},
   "source": [
    "# 分散を求める関数"
   ]
  },
  {
   "cell_type": "code",
   "execution_count": null,
   "metadata": {},
   "outputs": [],
   "source": [
    "def calc_variance(a_list):\n",
    "    total = sum(a_list)\n",
    "    length = len(a_list)\n",
    "    mean = total/length\n",
    "    variance = 0\n",
    "    \n",
    "    for height in a_list:\n",
    "        variance += (height-mean)**2\n",
    "    variance = variance/len(a_list)\n",
    "    \n",
    "    return variance"
   ]
  },
  {
   "cell_type": "code",
   "execution_count": null,
   "metadata": {},
   "outputs": [],
   "source": [
    "monk_fish_team = [158, 157, 163, 157, 145]\n",
    "volleyball_team = [143, 167, 170, 165]\n",
    "pravda_team = [127, 172, 140, 160, 174]\n",
    "\n",
    "monk_team_variance = calc_variance(monk_fish_team)\n",
    "volley_team_variance = calc_variance(volleyball_team)\n",
    "pravda_team_variance = calc_variance(pravda_team)\n",
    "\n",
    "print(monk_team_variance**0.5)\n",
    "print(volley_team_variance**0.5)\n",
    "print(pravda_team_variance**0.5)"
   ]
  },
  {
   "cell_type": "markdown",
   "metadata": {},
   "source": [
    "# モジュールのインポート"
   ]
  },
  {
   "cell_type": "code",
   "execution_count": null,
   "metadata": {},
   "outputs": [],
   "source": [
    "import random\n",
    "\n",
    "print(random.random())        # 0<x<1の乱数を得る\n",
    "print(random.randint(0, 6))   # 0<=x<=6の乱数を得る\n",
    "a_list = [0, 1, 2, 3, 4, 5]\n",
    "random.shuffle(a_list)\n",
    "print(a_list)                 # リストの要素の順番をシャッフル\n",
    "print(random.choice(a_list))  # リストの要素を1つランダムに選ぶ"
   ]
  },
  {
   "cell_type": "markdown",
   "metadata": {},
   "source": [
    "# fromを使ったモジュールのインポート"
   ]
  },
  {
   "cell_type": "markdown",
   "metadata": {},
   "source": [
    "- from モジュール名 import 関数名など\n",
    "- モジュールにある関数を直接インポート\n",
    "- random.randint()をrandint()だけで使えるようになる\n",
    "- モジュールのリスト http://docs.python.jp/3/"
   ]
  },
  {
   "cell_type": "code",
   "execution_count": null,
   "metadata": {},
   "outputs": [],
   "source": [
    "from statistics import median # リストの中から中央値を計算する関数\n",
    "\n",
    "monk_fish_team = [158, 157, 163, 157, 145]\n",
    "volleyball_team = [143, 167, 170, 165]\n",
    "print(median(monk_fish_team))\n",
    "print(median(volleyball_team))"
   ]
  },
  {
   "cell_type": "markdown",
   "metadata": {},
   "source": [
    "# ディクショナリ"
   ]
  },
  {
   "cell_type": "code",
   "execution_count": null,
   "metadata": {},
   "outputs": [],
   "source": [
    "purple = {\"ニックネーム\": \"れにちゃん\",\n",
    "         \"出身地\": \"神奈川県\",\n",
    "         \"キャッチフレーズ\": \"感電少女\"}"
   ]
  },
  {
   "cell_type": "code",
   "execution_count": null,
   "metadata": {},
   "outputs": [],
   "source": [
    "# ディクショナリから値を取り出す\n",
    "print(purple[\"出身地\"])"
   ]
  },
  {
   "cell_type": "code",
   "execution_count": null,
   "metadata": {},
   "outputs": [],
   "source": [
    "# 値の変更\n",
    "purple[\"キャッチフレーズ\"] = \"鋼少女\"\n",
    "purple"
   ]
  },
  {
   "cell_type": "code",
   "execution_count": null,
   "metadata": {},
   "outputs": [],
   "source": [
    "# 要素の追加\n",
    "purple[\"生年月日\"] = \"1993年6月21日\"\n",
    "purple"
   ]
  },
  {
   "cell_type": "code",
   "execution_count": null,
   "metadata": {},
   "outputs": [],
   "source": [
    "# 要素の削除\n",
    "del purple[\"ニックネーム\"]\n",
    "purple"
   ]
  },
  {
   "cell_type": "code",
   "execution_count": null,
   "metadata": {},
   "outputs": [],
   "source": [
    "# ディクショナリのキーを使ったループ\n",
    "purple = {\"ニックネーム\": \"れにちゃん\",\n",
    "         \"出身地\": \"神奈川県\",\n",
    "         \"キャッチフレーズ\": \"感電少女\",\n",
    "         \"生年月日\": \"1993年6月21日\"}\n",
    "for key in purple:\n",
    "    print(key, purple[key])"
   ]
  },
  {
   "cell_type": "markdown",
   "metadata": {},
   "source": [
    "# set（集合）"
   ]
  },
  {
   "cell_type": "markdown",
   "metadata": {},
   "source": [
    "- リストと違い中の要素が重複しない\n",
    "- setの中にすでに存在している値を追加しようとしても新しい要素は追加されない\n",
    "- インデックスを使って要素を取り出すことができない\n",
    "- 集合演算を行うときに便利"
   ]
  },
  {
   "cell_type": "code",
   "execution_count": null,
   "metadata": {},
   "outputs": [],
   "source": [
    "# setの定義\n",
    "dice = {1, 2, 3, 4, 5, 6}\n",
    "coin = {\"表\", \"裏\"}"
   ]
  },
  {
   "cell_type": "code",
   "execution_count": null,
   "metadata": {},
   "outputs": [],
   "source": [
    "# 和集合を得る\n",
    "prime = {2, 3, 5, 7, 13, 17} # 素数\n",
    "fib = {1, 1, 2, 3, 5, 8, 13} # フィボナッチ数\n",
    "\n",
    "prime_fib = prime | fib\n",
    "prime_fib"
   ]
  },
  {
   "cell_type": "code",
   "execution_count": null,
   "metadata": {},
   "outputs": [],
   "source": [
    "# 差集合\n",
    "dice = {1, 2, 3, 4, 5, 6}\n",
    "even = {2, 4, 6, 8, 10}\n",
    "\n",
    "odd_dice = dice - even\n",
    "odd_dice"
   ]
  },
  {
   "cell_type": "code",
   "execution_count": null,
   "metadata": {},
   "outputs": [],
   "source": [
    "# 交わりを得る\n",
    "prefs = {\"北海道\", \"青森\", \"秋田\", \"岩手\"}\n",
    "capitals = {\"札幌\", \"青森\", \"秋田\", \"盛岡\"}\n",
    "\n",
    "pref_cap = prefs & capitals\n",
    "pref_cap"
   ]
  },
  {
   "cell_type": "code",
   "execution_count": null,
   "metadata": {},
   "outputs": [],
   "source": [
    "# 対象差\n",
    "# 両方のsetに共通している要素以外を取り出す\n",
    "prefs = {\"北海道\", \"青森\", \"秋田\", \"岩手\"}\n",
    "capitals = {\"札幌\", \"青森\", \"秋田\", \"盛岡\"}\n",
    "\n",
    "pref_cap2 = prefs ^ capitals\n",
    "pref_cap2"
   ]
  },
  {
   "cell_type": "markdown",
   "metadata": {},
   "source": [
    "# setとリストの似た性質"
   ]
  },
  {
   "cell_type": "markdown",
   "metadata": {},
   "source": [
    "- len()で長さ（基数）を測れる\n",
    "- setを引数にして、max()、min()、sum()などの関数を呼び出せる\n",
    "- setはfor文にシーケンスとして添えることができる"
   ]
  },
  {
   "cell_type": "code",
   "execution_count": null,
   "metadata": {},
   "outputs": [],
   "source": [
    "# リストをsetに変換する\n",
    "# setの長さを測れば何種類の要素が存在するかわかる\n",
    "codon = [\"ATG\", \"GGC\", \"TCC\", \"AAG\", \"TTC\", \"TGG\", \"GAC\", \"TCC\"]\n",
    "s_codon = set(codon)\n",
    "print(len(codon), len(s_codon))"
   ]
  },
  {
   "cell_type": "code",
   "execution_count": null,
   "metadata": {},
   "outputs": [],
   "source": [
    "# 要素の検索とsetの比較\n",
    "prime = {2, 3, 5, 7, 13, 17}\n",
    "fib = {1, 1, 2, 3, 5, 8, 13}\n",
    "\n",
    "prime_fib = prime & fib\n",
    "if 13 in prime_fib:\n",
    "    print (\"13は素数かつフィボナッチ数\")\n",
    "if {2, 3} <= prime_fib:\n",
    "    print(\"2, 3は素数かつフィボナッチ数\")"
   ]
  },
  {
   "cell_type": "markdown",
   "metadata": {},
   "source": [
    "# タプルの使用"
   ]
  },
  {
   "cell_type": "markdown",
   "metadata": {},
   "source": [
    "- リストのように複数の要素を持てる\n",
    "- リストのようにインデックスでアクセス可能\n",
    "- 要素の変更ができない\n",
    "- del文も使用不可\n",
    "- タプル同士の連結は可能"
   ]
  },
  {
   "cell_type": "code",
   "execution_count": null,
   "metadata": {},
   "outputs": [],
   "source": [
    "# タプルの定義\n",
    "month_names = (\"January\", \"February\", \"March\",\n",
    "               \"April\", \"May\", \"June\", \"July\")"
   ]
  },
  {
   "cell_type": "code",
   "execution_count": null,
   "metadata": {},
   "outputs": [],
   "source": [
    "# タプルから要素の取り出し\n",
    "month_names[1]"
   ]
  },
  {
   "cell_type": "code",
   "execution_count": null,
   "metadata": {},
   "outputs": [],
   "source": [
    "# タプルの連結\n",
    "month_names = month_names + (\"August\", \"September\", \"October\", \"November\", \"December\")\n",
    "month_names[11]"
   ]
  },
  {
   "cell_type": "markdown",
   "metadata": {},
   "source": [
    "# タプルのメリット"
   ]
  },
  {
   "cell_type": "markdown",
   "metadata": {},
   "source": [
    "- タプルは要素を変更できない\n",
    "- リストを追加できないsetにタプルは登録可能\n",
    "- ディクショナリのキーとしても登録可能"
   ]
  },
  {
   "cell_type": "code",
   "execution_count": null,
   "metadata": {},
   "outputs": [],
   "source": [
    "pref_capitals = {(43.06417, 141.34694):\"北海道（札幌）\",\n",
    "                 (40.82444, 140.74):\"青森県（青森市）\",\n",
    "                 (39.70361, 141.1525):\"岩手県（盛岡市）\"\n",
    "}"
   ]
  },
  {
   "cell_type": "code",
   "execution_count": null,
   "metadata": {},
   "outputs": [],
   "source": [
    "# 指定したディクショナリのキーの検索\n",
    "loc = (39.70361, 141.1525)\n",
    "for key in pref_capitals:\n",
    "    if loc == key:\n",
    "        print(pref_capitals[key])\n",
    "        break"
   ]
  },
  {
   "cell_type": "code",
   "execution_count": null,
   "metadata": {},
   "outputs": [],
   "source": [
    "# 指定した緯度、経度に最も近い県庁所在地\n",
    "loc = (41.768793, 140.72881)\n",
    "nearest_cap = ''                                   # 最寄りの県庁所在地名を保存するための変数\n",
    "nearest_dist = 10000                               # 最寄りの地点までの距離を保存する変数\n",
    "for key in pref_capitals:\n",
    "    dist = (loc[0]-key[0])**2+(loc[1]-key[1])**2   # 緯度、経度の差を2乗して距離を計算\n",
    "    if nearest_dist > dist:\n",
    "        nearest_dist = dist\n",
    "        nearest_cap = pref_capitals[key]           # より近い地点が見つかったので、変数を入れ替え\n",
    "        \n",
    "print(nearest_cap)"
   ]
  },
  {
   "cell_type": "markdown",
   "metadata": {},
   "source": [
    "# 条件式"
   ]
  },
  {
   "cell_type": "code",
   "execution_count": null,
   "metadata": {},
   "outputs": [],
   "source": [
    "# 条件式に論理演算子を使った例\n",
    "v = 30000\n",
    "if v < 28400:\n",
    "    print(\"地上に落下します\")\n",
    "if v >= 28400 and v < 40300:\n",
    "    print(\"月とお友達です\")\n",
    "if v >= 40300 and v < 60100:\n",
    "    print(\"惑星の仲間入りです\")\n",
    "if v >= 60100:\n",
    "    print(\"アルファケンタウリを目指せ\")"
   ]
  },
  {
   "cell_type": "markdown",
   "metadata": {},
   "source": [
    "# While文"
   ]
  },
  {
   "cell_type": "code",
   "execution_count": null,
   "metadata": {},
   "outputs": [],
   "source": [
    "# Fizz Buzz問題\n",
    "# 3の倍数「Fizz」、5の倍数「Buzz」、3かつ5の倍数「Fizz Buzz」\n",
    "cnt = 1\n",
    "while cnt <= 100:\n",
    "    if cnt%3 == 0 and cnt%5 == 0:\n",
    "        print(\"Fizz Buzz\")\n",
    "    elif cnt%3 == 0:\n",
    "        print(\"Fizz\")\n",
    "    elif cnt%5 == 0:\n",
    "        print(\"Buzz\")\n",
    "    else:\n",
    "        print(cnt)\n",
    "    cnt = cnt+1"
   ]
  },
  {
   "cell_type": "markdown",
   "metadata": {},
   "source": [
    "# break文とcontinue文"
   ]
  },
  {
   "cell_type": "code",
   "execution_count": 1,
   "metadata": {},
   "outputs": [
    {
     "name": "stdin",
     "output_type": "stream",
     "text": [
      "0:グー 1:チョキ 2:パー 3:やめる 1\n"
     ]
    },
    {
     "name": "stdout",
     "output_type": "stream",
     "text": [
      "あなたチョキ、コンピュータ:チョキ\n",
      "あいこ\n"
     ]
    },
    {
     "name": "stdin",
     "output_type": "stream",
     "text": [
      "0:グー 1:チョキ 2:パー 3:やめる 3\n"
     ]
    }
   ],
   "source": [
    "# じゃんけんプログラム\n",
    "from random import randint\n",
    "hands = {0:\"グー\", 1:\"チョキ\", 2:\"パー\"}                           # ディクショナリ\n",
    "# キーはタプル\n",
    "rules = {(0, 0):\"あいこ\", (0, 1):\"勝ち\", (0, 2):\"負け\", \n",
    "         (1, 0):\"負け\", (1, 1):\"あいこ\", (1, 2):\"勝ち\", \n",
    "         (2, 0):\"勝ち\", (2, 1):\"負け\", (2, 2):\"あいこ\",}\n",
    "\n",
    "while True:\n",
    "    pc_hand = randint(0, 2)\n",
    "    user_hand_str = input(\"0:グー 1:チョキ 2:パー 3:やめる\")\n",
    "    if user_hand_str == \"3\":\n",
    "        break\n",
    "    if user_hand_str not in (\"0\", \"1\", \"2\"):\n",
    "        continue\n",
    "    user_hand = int(user_hand_str)\n",
    "    print(\"あなた\"+hands[user_hand]+\"、コンピュータ:\"+hands[pc_hand])\n",
    "    \n",
    "    print(rules[(user_hand, pc_hand)])"
   ]
  },
  {
   "cell_type": "markdown",
   "metadata": {},
   "source": [
    "# int()関数の応用"
   ]
  },
  {
   "cell_type": "code",
   "execution_count": 2,
   "metadata": {},
   "outputs": [
    {
     "data": {
      "text/plain": [
       "42"
      ]
     },
     "execution_count": 2,
     "metadata": {},
     "output_type": "execute_result"
    }
   ],
   "source": [
    "# 2進数相当の文字列を数値に変換\n",
    "int(\"101010\", 2)"
   ]
  },
  {
   "cell_type": "markdown",
   "metadata": {},
   "source": [
    "# 関数にデフォルト引数を定義"
   ]
  },
  {
   "cell_type": "code",
   "execution_count": 8,
   "metadata": {},
   "outputs": [
    {
     "name": "stdout",
     "output_type": "stream",
     "text": [
      "1\n",
      "2\n",
      "Fizz\n",
      "4\n",
      "Buzz\n",
      "Fizz\n",
      "7\n",
      "8\n",
      "Fizz\n",
      "Buzz\n",
      "11\n",
      "Fizz\n",
      "13\n",
      "14\n",
      "FizzBuzz\n",
      "16\n",
      "17\n",
      "Fizz\n",
      "19\n",
      "Buzz\n",
      "Fizz\n",
      "22\n",
      "23\n",
      "Fizz\n",
      "Buzz\n",
      "26\n",
      "Fizz\n",
      "28\n",
      "29\n",
      "FizzBuzz\n",
      "31\n",
      "32\n",
      "Fizz\n",
      "34\n",
      "Buzz\n",
      "Fizz\n",
      "37\n",
      "38\n",
      "Fizz\n",
      "Buzz\n",
      "41\n",
      "Fizz\n",
      "43\n",
      "44\n",
      "FizzBuzz\n",
      "46\n",
      "47\n",
      "Fizz\n",
      "49\n",
      "Buzz\n",
      "Fizz\n",
      "52\n",
      "53\n",
      "Fizz\n",
      "Buzz\n",
      "56\n",
      "Fizz\n",
      "58\n",
      "59\n",
      "FizzBuzz\n",
      "61\n",
      "62\n",
      "Fizz\n",
      "64\n",
      "Buzz\n",
      "Fizz\n",
      "67\n",
      "68\n",
      "Fizz\n",
      "Buzz\n",
      "71\n",
      "Fizz\n",
      "73\n",
      "74\n",
      "FizzBuzz\n",
      "76\n",
      "77\n",
      "Fizz\n",
      "79\n",
      "Buzz\n",
      "Fizz\n",
      "82\n",
      "83\n",
      "Fizz\n",
      "Buzz\n",
      "86\n",
      "Fizz\n",
      "88\n",
      "89\n",
      "FizzBuzz\n",
      "91\n",
      "92\n",
      "Fizz\n",
      "94\n",
      "Buzz\n",
      "Fizz\n",
      "97\n",
      "98\n",
      "Fizz\n",
      "Buzz\n"
     ]
    }
   ],
   "source": [
    "def fizzbuzz(count=100, fizzmod=3, buzzmod=5):\n",
    "    for cnt in range(1, count+1):\n",
    "        if cnt%fizzmod == 0 and cnt%buzzmod == 0:\n",
    "            print(\"FizzBuzz\")\n",
    "        elif cnt%fizzmod == 0:\n",
    "            print(\"Fizz\")\n",
    "        elif cnt%buzzmod == 0:\n",
    "            print(\"Buzz\")\n",
    "        else:\n",
    "            print(cnt)\n",
    "            \n",
    "fizzbuzz(count=100, fizzmod=3, buzzmod=5)"
   ]
  },
  {
   "cell_type": "markdown",
   "metadata": {},
   "source": [
    "# グローバル変数とローカル変数"
   ]
  },
  {
   "cell_type": "code",
   "execution_count": 9,
   "metadata": {},
   "outputs": [
    {
     "name": "stdout",
     "output_type": "stream",
     "text": [
      "test_func()の中 = 200\n",
      "test_func()の外 = 1\n"
     ]
    }
   ],
   "source": [
    "local_var = 1\n",
    "\n",
    "def test_func(an_arg):\n",
    "    local_var = an_arg\n",
    "    print(\"test_func()の中 =\", local_var)\n",
    "\n",
    "test_func(200)\n",
    "print(\"test_func()の外 =\", local_var)"
   ]
  },
  {
   "cell_type": "code",
   "execution_count": null,
   "metadata": {},
   "outputs": [],
   "source": []
  }
 ],
 "metadata": {
  "kernelspec": {
   "display_name": "Python 3",
   "language": "python",
   "name": "python3"
  },
  "language_info": {
   "codemirror_mode": {
    "name": "ipython",
    "version": 3
   },
   "file_extension": ".py",
   "mimetype": "text/x-python",
   "name": "python",
   "nbconvert_exporter": "python",
   "pygments_lexer": "ipython3",
   "version": "3.8.5"
  }
 },
 "nbformat": 4,
 "nbformat_minor": 4
}
