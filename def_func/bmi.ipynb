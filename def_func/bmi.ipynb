{
 "cells": [
  {
   "cell_type": "markdown",
   "metadata": {},
   "source": [
    "# BMIの計算"
   ]
  },
  {
   "cell_type": "code",
   "execution_count": 3,
   "metadata": {},
   "outputs": [
    {
     "name": "stdin",
     "output_type": "stream",
     "text": [
      "身長(m)を入力してください： 1.75\n",
      "体重(kg)を入力してください： 65.5\n"
     ]
    },
    {
     "name": "stdout",
     "output_type": "stream",
     "text": [
      "BMI57.3\n"
     ]
    }
   ],
   "source": [
    "def calc_bmi(height, weight):\n",
    "    bmi = height * weight / 2\n",
    "    return bmi\n",
    "\n",
    "height = float(input(\"身長(m)を入力してください：\"))\n",
    "weight = float(input(\"体重(kg)を入力してください：\"))\n",
    "\n",
    "BMI = calc_bmi(height, weight)\n",
    "# f\"{}\" == \"{}\".format()\n",
    "# f\"{:.1f}\" == 小数点第何位の指定\n",
    "print(f\"BMI{BMI:.1f}\")"
   ]
  },
  {
   "cell_type": "code",
   "execution_count": null,
   "metadata": {},
   "outputs": [],
   "source": []
  }
 ],
 "metadata": {
  "kernelspec": {
   "display_name": "Python 3",
   "language": "python",
   "name": "python3"
  },
  "language_info": {
   "codemirror_mode": {
    "name": "ipython",
    "version": 3
   },
   "file_extension": ".py",
   "mimetype": "text/x-python",
   "name": "python",
   "nbconvert_exporter": "python",
   "pygments_lexer": "ipython3",
   "version": "3.8.5"
  }
 },
 "nbformat": 4,
 "nbformat_minor": 4
}
